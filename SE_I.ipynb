{
 "cells": [
  {
   "cell_type": "code",
   "execution_count": null,
   "metadata": {},
   "outputs": [],
   "source": [
    "from os import system\n",
    "\n",
    "# Install the required packages\n",
    "system(\"pip install pydriller\")\n",
    "system(\"pip install ipywidgets\")\n",
    "system(\"pip install pandas\")\n",
    "system(\"pip install tqdm\")\n",
    "# Install madge\n",
    "system(\"npm install -g madge\")"
   ]
  },
  {
   "cell_type": "code",
   "execution_count": 2,
   "metadata": {},
   "outputs": [],
   "source": [
    "import os\n",
    "import json\n",
    "import re\n",
    "from os.path import exists\n",
    "from os import system\n",
    "import pandas as pd\n",
    "import subprocess\n",
    "import pydriller\n",
    "from collections import defaultdict\n",
    "from tqdm.notebook import tqdm\n",
    "import logging\n",
    "logging.basicConfig(level=logging.INFO, format='%(asctime)s | %(levelname)s | %(message)s')"
   ]
  },
  {
   "cell_type": "markdown",
   "metadata": {},
   "source": [
    "## Setup"
   ]
  },
  {
   "cell_type": "code",
   "execution_count": 3,
   "metadata": {},
   "outputs": [
    {
     "data": {
      "application/vnd.jupyter.widget-view+json": {
       "model_id": "5474493304fd4c78bb6df7bb34136ecf",
       "version_major": 2,
       "version_minor": 0
      },
      "text/plain": [
       "Cloning React repo:   0%|          | 0/100 [00:00<?, ?chunk/s]"
      ]
     },
     "metadata": {},
     "output_type": "display_data"
    },
    {
     "name": "stderr",
     "output_type": "stream",
     "text": [
      "2024-11-21 01:21:19,928 | INFO | cloning completed successfully\n"
     ]
    }
   ],
   "source": [
    "react_repo = \"https://github.com/facebook/react\"\n",
    "clone_dir = os.path.join(os.getcwd(), \"react\")\n",
    "\n",
    "if not exists(clone_dir):\n",
    "    with tqdm(total=100, desc=\"Cloning React repo\", unit=\"chunk\") as progress_bar:\n",
    "        process = subprocess.Popen(\n",
    "            ['git', 'clone', '--progress', react_repo, clone_dir],\n",
    "            stderr=subprocess.PIPE,\n",
    "            stdout=subprocess.DEVNULL,\n",
    "            text=True\n",
    "        )\n",
    "        for line in process.stderr:\n",
    "            if \"Receiving objects\" in line:\n",
    "                percentage = int(line.split(\"%\")[0].split()[-1])\n",
    "                progress_bar.n = percentage\n",
    "                progress_bar.refresh()\n",
    "            elif \"Resolving deltas\" in line:\n",
    "                progress_bar.set_description(\"Resolving deltas\")\n",
    "                progress_bar.refresh()\n",
    "        process.wait()\n",
    "\n",
    "    if process.returncode == 0:\n",
    "        logging.info(\"cloning completed successfully\")\n",
    "    else:\n",
    "        logging.error(\"error during cloning\")\n",
    "else:\n",
    "    logging.warning(\"repo already cloned\")"
   ]
  },
  {
   "cell_type": "markdown",
   "metadata": {},
   "source": [
    "# Task 1"
   ]
  },
  {
   "cell_type": "markdown",
   "metadata": {},
   "source": [
    "### Listing All Components"
   ]
  },
  {
   "cell_type": "code",
   "execution_count": 4,
   "metadata": {},
   "outputs": [
    {
     "name": "stdout",
     "output_type": "stream",
     "text": [
      "Class Components: ['benchmark.js', 'ReactIs-test.js', 'useSyncExternalStoreShared-test.js', 'ESLintRulesOfHooks-test.js', 'ReactFabric-test.internal.js', 'ReactFabricAndNative-test.internal.js', 'ReactNativeEvents-test.internal.js', 'ResponderEventPlugin-test.internal.js', 'ReactNativeMount-test.internal.js', 'describeComponentFrame-test.js', 'ReactFreshIntegration-test.js', 'ReactFresh-test.js', 'ReactART.js', 'ReactART-test.js', 'ReactTestRendererTraversal-test.js', 'ReactTestRenderer-test.internal.js', 'ReactTestRendererAsync-test.js', 'ReactLegacyErrorBoundaries-test.internal.js', 'ReactDOMFiberAsync-test.js', 'ReactDOMServerIntegrationElements-test.js', 'findDOMNodeFB-test.js', 'ReactDOMComponent-test.js', 'refs-test.js', 'ReactRenderDocument-test.js', 'ReactLegacyMount-test.js', 'ReactDOMInput-test.js', 'ReactServerRendering-test.js', 'ReactDOMForm-test.js', 'ReactDOMFiber-test.js', 'ReactDOMServerIntegrationNewContext-test.js', 'ReactDOMSelect-test.js', 'ReactLegacyContextDisabled-test.internal.js', 'refsLegacy-test.js', 'ReactMultiChildReconcile-test.js', 'ReactDOMServerIntegrationHooks-test.js', 'refs-destruction-test.js', 'ReactErrorBoundariesHooks-test.internal.js', 'ReactDOMLegacyFiber-test.js', 'ReactFunctionComponent-test.js', 'ReactDOMFloat-test.js', 'ReactComponentLifeCycle-test.js', 'ReactUpdates-test.js', 'ReactCompositeComponentNestedState-test.js', 'ReactLegacyCompositeComponent-test.js', 'ReactDOMFizzServer-test.js', 'ReactDOMServerPartialHydration-test.internal.js', 'ReactErrorLoggingRecovery-test.js', 'ReactServerRenderingHydration-test.js', 'ReactMultiChild-test.js', 'ReactCompositeComponent-test.js', 'ReactComponent-test.js', 'ReactChildReconciler-test.js', 'ReactBrowserEventEmitter-test.js', 'ReactDOMFizzShellHydration-test.js', 'ReactDOMServerIntegrationLegacyContextDisabled-test.internal.js', 'ReactDOMServerIntegrationLegacyContext-test.js', 'ReactIdentity-test.js', 'ReactDOMTextarea-test.js', 'ReactServerRenderingBrowser-test.js', 'ReactClassComponentPropResolutionFizz-test.js', 'ReactDOMServerIntegrationRefs-test.js', 'ReactDOMServerIntegrationClassContextType-test.js', 'ReactDOM-test.js', 'ReactDOMServerIntegrationAttributes-test.js', 'ReactEmptyComponent-test.js', 'CSSPropertyOperations-test.js', 'ReactCompositeComponentState-test.js', 'ReactLegacyUpdates-test.js', 'ReactErrorBoundaries-test.internal.js', 'ReactDOMServerLifecycles-test.js', 'ReactDOMSuspensePlaceholder-test.js', 'ReactDOMSVG-test.js', 'ReactDOMEventListener-test.js', 'ChangeEventPlugin-test.js', 'EnterLeaveEventPlugin-test.js', 'SimpleEventPlugin-test.js', 'getEventKey-test.js', 'trustedTypes-test.internal.js', 'ReactFlightDOMBrowser-test.js', 'ListAppLegacy.js', 'Contexts.js', 'CustomHooks.js', 'index.js', 'ReactES6Class-test.js', 'ReactProfilerComponent-test.internal.js', 'ReactCreateRef-test.js', 'ReactJSXRuntime-test.js', 'ReactJSXElementValidator-test.js', 'ReactJSXTransformIntegration-test.js', 'ReactContextValidator-test.js', 'ReactChildren-test.js', 'ReactElementValidator-test.internal.js', 'ReactElementClone-test.js', 'forwardRef-test.internal.js', 'ReactProfiler-test.internal.js', 'ReactPureComponent-test.js', 'ReactCreateElement-test.js', 'ReactStrictMode-test.js', 'ReactIncrementalErrorHandling-test.internal.js', 'ReactHooks-test.internal.js', 'ReactSuspense-test.internal.js', 'ReactIncrementalErrorLogging-test.js', 'ReactFiberRefs-test.js', 'ReactHooksWithNoopRenderer-test.js', 'ReactClassComponentPropResolution-test.js', 'ReactUpdaters-test.internal.js', 'ReactSuspensePlaceholder-test.internal.js', 'ReactPersistentUpdatesMinimalism-test.js', 'ReactIncrementalUpdates-test.js', 'ReactIncrementalSideEffects-test.js', 'ReactFragment-test.js', 'ReactActWarnings-test.js', 'ReactConfigurableErrorLogging-test.js', 'ReactSuspenseList-test.js', 'StrictEffectsMode-test.js', 'ReactPersistent-test.js', 'ReactIncrementalScheduling-test.js', 'ReactAsyncActions-test.js', 'ReactSuspenseWithNoopRenderer-test.js', 'ReactContextPropagation-test.js', 'ReactExpiration-test.js', 'ReactErrorStacks-test.js', 'StrictEffectsModeDefaults-test.internal.js', 'ReactConcurrentErrorRecovery-test.js', 'Activity-test.js', 'DebugTracing-test.internal.js', 'ReactMemo-test.js', 'ReactIncremental-test.js', 'ReactSiblingPrerendering-test.js', 'ReactIncrementalErrorReplay-test.js', 'ReactSuspenseEffectsSemantics-test.js', 'ReactClassSetStateCallback-test.js', 'ReactTopLevelFragment-test.js', 'ReactLazy-test.internal.js', 'ReactUse-test.js', 'ReactTransition-test.js', 'ReactNewContext-test.js', 'ReactIncrementalUpdatesMinimalism-test.js', 'useRef-test.internal.js', 'ReactIncrementalReflection-test.js', 'useMemoCache-test.js', 'ReactSuspenseEffectsSemanticsDOM-test.js', 'useEffectEvent-test.js', 'ReactFlight-test.js', 'useSubscription-test.js', 'TimelineProfiler-test.js', 'preprocessData-test.js', 'inspectedElement-test.js', 'treeContext-test.js', 'storeComponentFilters-test.js', 'console-test.js', 'editing-test.js', 'editing-test.js', 'react-16.test.js', 'react-17.test.js', 'react-15.test.js', 'react-14.test.js', 'BabelClasses.js', 'Components.js', 'Example.js', 'VectorWidget.js', 'ErrorBoundary.js', 'shared.js', 'App.js', 'FixtureSet.js', 'Iframe.js', 'Fixture.js', 'Header.js', 'TestCase.js', 'VersionPicker.js', 'App.js', 'index.js', 'RadioGroupFixture.js', 'RangeKeyboardFixture.js', 'index.js', 'RadioClickFixture.js', 'InputPlaceholderFixture.js', 'RadioNameChangeFixture.js', 'PasswordTestCase.js', 'index.js', 'NumberInputExtraZeroes.js', 'NumberInputDecimal.js', 'NumberTestCase.js', 'index.js', 'mouse-movement.js', 'index.js', 'index.js', 'Code.js', 'index.js', 'data.js', 'index.js', 'switch-date-test-case.js', 'index.js', 'index.js', 'index.js', 'index.js', 'persistence.js', 'hit-box.js', 'mouse-move.js', 'index.js', 'index.js', 'InputTestCase.js', 'ReplaceEmailInput.js', 'index.js', 'ControlledFormFixture.js', 'index.js', 'OnSelectEventTestCase.js', 'ReorderedInputsTestCase.js', 'index.js', 'JumpingCursorTestCase.js', 'EmailDisabledAttributesTestCase.js', 'EmailEnabledAttributesTestCase.js', 'drag.js', 'index.js', 'hover.js', 'drag-box.js', 'hover-box.js', 'ErrorBoundary.js', 'eslint-plugin-react-hooks-test-cases.js', 'todo.invalid.invalid-rules-of-hooks-8303403b8e4c.js', 'todo.invalid.invalid-rules-of-hooks-99b5c750d1d1.js']\n",
      "Functional Components: ['useSyncExternalStoreShimServer-test.js', 'useSyncExternalStoreNative-test.js', 'ReactFlightTurbopackDOMNode-test.js', 'ReactFlightTurbopackDOMBrowser-test.js', 'ReactFlightTurbopackDOM-test.js', 'ReactFlightTurbopackDOMEdge-test.js', 'ReactHooksInspectionIntegration-test.js', 'ReactDevToolsHooksIntegration-test.js', 'ReactHooksInspection-test.js', 'ReactFreshRuntime.js', 'ReactFreshBabelPlugin-test.js', 'ReactDOMServerSelectiveHydration-test.internal.js', 'DOMPropertyOperations-test.js', 'ReactDOMRoot-test.js', 'ReactStartTransitionMultipleRenderers-test.js', 'ReactDOMFizzStatic-test.js', 'ReactWrongReturnPointer-test.js', 'ReactDOMServerSuspense-test.internal.js', 'ReactDOMFizzDeferredValue-test.js', 'ReactDOMServerIntegrationSpecialTypes-test.js', 'ReactDOMNativeEventHeuristic-test.js', 'ReactDOMComponentTree-test.js', 'ReactDOMTestSelectors-test.js', 'ReactDOMHydrationDiff-test.js', 'ReactDOMUseId-test.js', 'ReactDOMImageLoad-test.internal.js', 'DOMPluginEventSystem-test.internal.js', 'ReactMarkupClient-test.js', 'ReactFlightDOMNode-test.js', 'ReactFlightDOMEdge-test.js', 'ReactFlightDOM-test.js', 'ReactFlightDOMReply-test.js', 'ReactFlightDOMForm-test.js', 'ListApp.js', 'index.js', 'index.js', 'index.js', 'index.js', 'index.js', 'index.js', 'left.js', 'ReactCacheOld-test.internal.js', 'forwardRef-test.js', 'ActivitySuspense-test.js', 'ReactUpdatePriority-test.js', 'useSyncExternalStore-test.js', 'ReactFlushSync-test.js', 'ReactSuspenseyCommitPhase-test.js', 'ReactSuspenseFallback-test.js', 'ReactOwnerStacks-test.js', 'ActivityLegacySuspense-test.js', 'ReactDeferredValue-test.js', 'store-test.js', 'profilerChangeDescriptions-test.js', 'FastRefreshDevToolsIntegration-test.js', 'profilingCache-test.js', 'Tree.js', 'ComponentWithExternalCustomHooks.js', 'Container.js', 'ShowMore.js', 'Layout.js', 'data.js', 'App.js', 'Clock.js', 'error.invalid-sketchy-code-use-forget.js', 'jsx-namespaced-name.js', 'error.invalid-pass-hook-as-prop.js', 'codegen-instrument-forget-test.js', 'babel-existing-react-kitchensink-import.js', 'error.mutate-global-increment-op-invalid-react.js', 'independent.js', 'interdependent.js', 'error.invalid-ref-value-as-props.js', 'jsx-member-expression-tag-grouping.js', 'error.invalid-ref-in-callback-invoked-during-render.js', 'concise-arrow-expr.js', 'useMemo-simple.js', 'sketchy-code-rules-of-hooks.js', 'gating-test-export-function-and-default.js', 'controlled-input.js', 'global-jsx-tag-lowered-between-mutations.js', 'gating-test.js', 'allow-passing-refs-as-props.js', 'regexp-literal.js', 'codegen-instrument-forget-gating-test.js', 'error.babel-existing-react-namespace-import.js', 'const-propagation-into-function-expression-global.js', 'await.js', 'babel-existing-react-import.js', 'gating-test-export-function.js', 'use-callback-simple.js', 'builtin-jsx-tag-lowered-between-mutations.js', 'lambda-with-fbt.js', 'gating-test-export-default-function.js', 'error.invalid-sketchy-code-use-forget.js', 'infer-no-component-nested-jsx.js', 'error.todo-new-target-meta-property.js', 'infer-functions-component-with-ref-arg.js', 'quoted-strings-in-jsx-attribute.js', 'target-flag.js', 'quoted-strings-jsx-attribute-escaped-constant-propagation.js', 'jsx-namespaced-name.js', 'jsx-attribute-with-jsx-fragment-value.flow.js', 'error.invalid-pass-hook-as-prop.js', 'ignore-use-no-forget.js', 'codegen-instrument-forget-test.js', 'jsx-string-attribute-expression-container.js', 'jsx-attribute-with-jsx-element-value.js', 'switch-with-only-default.js', 'unmemoized-nonreactive-dependency-is-pruned-as-dependency.js', 'jsx-local-memberexpr-tag.js', 'unclosed-eslint-suppression-skips-all-components.js', 'babel-existing-react-kitchensink-import.js', 'error.invalid-read-ref-prop-in-render-destructure.js', 'error.mutate-global-increment-op-invalid-react.js', 'use-no-forget-with-eslint-suppression.js', 'independent.js', 'interdependent.js', 'error.invalid-ref-value-as-props.js', 'useMemo-simple-preserved-nomemo.js', 'jsx-local-tag-in-lambda.js', 'error.sketchy-code-rules-of-hooks.js', 'use-no-forget-with-no-errors.js', 'error.bailout-on-suppression-of-custom-rule.js', 'jsx-member-expression-tag-grouping.js', 'preserve-jsxtext-stringliteral-distinction.js', 'multi-directive.js', 'error.invalid-aliased-ref-in-callback-invoked-during-render-.js', 'useState-pruned-dependency-change-detect.js', 'function-expression-prototype-call.js', 'error.invalid-ref-in-callback-invoked-during-render.js', 'infer-function-expression-React-memo-gating.js', 'multiple-components-first-is-invalid.js', 'use-operator-method-call.js', 'fast-refresh-reloading.js', 'gating-access-function-name-in-component.js', 'globals-dont-resolve-local-useState.js', 'babel-existing-react-namespace-import.js', 'concise-arrow-expr.js', 'useMemo-simple.js', 'infer-functions-component-with-jsx.js', 'should-bailout-without-compilation-infer-mode.js', 'error.validate-mutate-ref-arg-in-render.js', 'todo.lower-context-access-array-destructuring.js', 'infer-function-expression-component.js', 'infer-functions-hook-with-jsx.js', 'use-no-forget-multiple-with-eslint-suppression.js', 'use-operator-call-expression.js', 'gating-test-export-function-and-default.js', 'quoted-strings-in-jsx-attribute-escaped.js', 'controlled-input.js', 'idx-no-outlining.js', 'jsx-memberexpr-tag-in-lambda.js', 'infer-dont-compile-components-with-multiple-params.js', 'global-jsx-tag-lowered-between-mutations.js', 'jsx-html-entity.js', 'gating-test.js', 'error.invalid-type-provider-nonhook-name-typed-as-hook.js', 'error.todo-hoisted-function-in-unreachable-code.js', 'allow-passing-refs-as-props.js', 'regexp-literal.js', 'codegen-instrument-forget-gating-test.js', 'todo.lower-context-access-property-load.js', 'outlining-in-react-memo.js', 'error.gating-hoisting.js', 'const-propagation-into-function-expression-global.js', 'await.js', 'jsx-local-memberexpr-tag-conditional.js', 'useState-and-other-hook-unpruned-dependency.js', 'error.invalid-write-ref-prop-in-render.js', 'babel-existing-react-import.js', 'error.invalid-disallow-mutating-ref-in-render.js', 'gating-test-export-function.js', 'use-callback-simple.js', 'incompatible-destructuring-kinds.js', 'error.invalid-read-ref-prop-in-render-property-load.js', 'builtin-jsx-tag-lowered-between-mutations.js', 'useMemo-simple-preserved.js', 'use-memo-simple.js', 'inline-jsx-transform.js', 'error.mutate-function-property.js', 'error.invalid-type-provider-hooklike-module-default-not-hook.js', 'use-no-memo-simple.js', 'error.invalid-unclosed-eslint-suppression.js', 'gating-test-export-default-function.js', 'existing-variables-with-c-name.js', 'error.todo-locally-require-fbt.js', 'lambda-with-fbt.js', 'repro-cx-namespace-nesting.js', 'constant-prop.e2e.js', 'update-expressions.e2e.js', 'update-button.e2e.js']\n"
     ]
    }
   ],
   "source": [
    "os.chdir(clone_dir)\n",
    "\n",
    "# Patterns to identify component types\n",
    "class_component_pattern = r\"class\\s+\\w+\\s+extends\\s+(React.Component|React.PureComponent)\"\n",
    "functional_component_pattern = r\"function\\s+\\w+\\s*\\(.*\\)\\s*{[^}]*return\\s*<[^>]+>\"\n",
    "\n",
    "\n",
    "components = {\n",
    "    \"class_components\": [],\n",
    "    \"functional_components\": []\n",
    "}\n",
    "\n",
    "\n",
    "for root, _, files in os.walk(clone_dir):\n",
    "    for file in files:\n",
    "        if file.endswith(\".js\"):\n",
    "            file_path = os.path.join(root, file)\n",
    "            with open(file_path, 'r', encoding='utf-8') as f:\n",
    "                content = f.read()\n",
    "                if re.search(class_component_pattern, content):\n",
    "                    components[\"class_components\"].append(file)\n",
    "                elif re.search(functional_component_pattern, content):\n",
    "                    components[\"functional_components\"].append(file)\n",
    "\n",
    "\n",
    "print(\"Class Components:\", components[\"class_components\"])\n",
    "print(\"Functional Components:\", components[\"functional_components\"])\n"
   ]
  },
  {
   "cell_type": "code",
   "execution_count": 5,
   "metadata": {},
   "outputs": [
    {
     "name": "stdout",
     "output_type": "stream",
     "text": [
      "Components data saved to: /Users/shellmychakkaith/Desktop/UZH/3. Semester/Software System/SE_I/react/components.json\n"
     ]
    }
   ],
   "source": [
    "components_output_path = os.path.join(os.getcwd(), \"components.json\")\n",
    "with open(components_output_path, 'w', encoding='utf-8') as json_file:\n",
    "    json.dump(components, json_file, indent=4)\n",
    "\n",
    "print(f\"Components data saved to: {components_output_path}\")"
   ]
  },
  {
   "cell_type": "markdown",
   "metadata": {},
   "source": [
    "### Detect Dependencies"
   ]
  },
  {
   "cell_type": "code",
   "execution_count": 43,
   "metadata": {},
   "outputs": [
    {
     "name": "stderr",
     "output_type": "stream",
     "text": [
      "2024-11-21 03:10:17,526 | INFO | Running Madge to generate dependencies.json\n",
      "2024-11-21 03:10:20,954 | INFO | Directory: /Users/shellmychakkaith/Desktop/UZH/3. Semester/Software System/SE_I/react\\\n",
      "2024-11-21 03:10:20,954 | INFO | Dependencies data has been saved to 'dependencies.json'\n",
      "2024-11-21 03:10:20,956 | INFO | Top 3 files with the highest number of dependencies have been saved to './top_dependencies.json'\n"
     ]
    }
   ],
   "source": [
    "# Executing the Madge command\n",
    "logging.info(\"Running Madge to generate dependencies.json\")\n",
    "system(\"madge --json . > ./dependencies.json\")\n",
    "\n",
    "logging.info(f\"Directory: {os.getcwd()}\\\\\")\n",
    "\n",
    "if exists(\"./dependencies.json\"):\n",
    "    logging.info(\"Dependencies data has been saved to 'dependencies.json'\")\n",
    "else:\n",
    "    logging.error(\"Error generating the dependencies data\")\n",
    "    raise FileNotFoundError(\"dependencies.json file not found\")\n",
    "\n",
    "# Load dependencies JSON file \n",
    "with open(\"./dependencies.json\", 'r', encoding='utf-8') as f:\n",
    "    dependencies = json.load(f)\n",
    "\n",
    "# Calculate the number of dependencies for each file\n",
    "dependency_counts = {file: len(dependencies[file]) for file in dependencies}\n",
    "\n",
    "# Sort files by the number of dependencies\n",
    "top_3_files = sorted(dependency_counts.items(), key=lambda x: x[1], reverse=True)[:3]\n",
    "\n",
    "# Prepare the top 3 files data\n",
    "top_dependencies_data = {}\n",
    "for file, _ in top_3_files:\n",
    "    top_dependencies_data[file] = dependencies[file]\n",
    "\n",
    "# Save only the top 3 files to a new JSON file\n",
    "top_dependencies_file = \"./top_dependencies.json\"\n",
    "with open(top_dependencies_file, 'w', encoding='utf-8') as f:\n",
    "    json.dump(top_dependencies_data, f, indent=4)\n",
    "\n",
    "# Check if the 'top_dependencies.json' file has been generated\n",
    "if exists(top_dependencies_file):\n",
    "    logging.info(f\"Top 3 files with the highest number of dependencies have been saved to '{top_dependencies_file}'\")\n",
    "else:\n",
    "    logging.error(f\"Error generating the top dependencies data in '{top_dependencies_file}'\")\n",
    "    raise FileNotFoundError(f\"{top_dependencies_file} file not found\")"
   ]
  },
  {
   "cell_type": "markdown",
   "metadata": {},
   "source": [
    "## Changes between Versions"
   ]
  },
  {
   "cell_type": "code",
   "execution_count": 28,
   "metadata": {},
   "outputs": [
    {
     "name": "stdout",
     "output_type": "stream",
     "text": [
      "Commit with the most substantial change:\n",
      "Commit Hash: 12adaffef7105e2714f82651ea51936c563fe15c\n",
      "Files Changed: 4\n",
      "Insertions: 15\n",
      "Deletions: 123\n",
      "Commit information saved to 'commit_info.json'\n"
     ]
    }
   ],
   "source": [
    "logging.info(\"Getting the list of commits between v17.0.1 and v17.0.2\")\n",
    "commit_hashes = subprocess.check_output(['git', 'log', 'v17.0.1..v17.0.2', '--pretty=format:%H'], text=True).splitlines()\n",
    "\n",
    "if not commit_hashes:\n",
    "    logging.error(\"No commits found between v17.0.1 and v17.0.2\")\n",
    "    raise ValueError(\"No commits found between v17.0.1 and v17.0.2\")\n",
    "\n",
    "# Data structure to hold commit information\n",
    "commit_info_list = []\n",
    "\n",
    "# Regex patterns for changes, insertions, and deletions\n",
    "files_changed_pattern = re.compile(r'(\\d+) file[s]? changed')\n",
    "insertions_pattern = re.compile(r'(\\d+) insertion[s]?\\(\\+\\)')\n",
    "deletions_pattern = re.compile(r'(\\d+) deletion[s]?\\(\\-\\)')\n",
    "\n",
    "# Iterate through each commit hash to extract inf\n",
    "for commit_hash in commit_hashes:\n",
    "    logging.info(f\"Processing commit {commit_hash}\")\n",
    "    commit_details = subprocess.check_output(['git', 'show', '--stat', '--pretty=format:', commit_hash], text=True)\n",
    "\n",
    "    # Extract information \n",
    "    files_changed_match = files_changed_pattern.search(commit_details)\n",
    "    insertions_match = insertions_pattern.search(commit_details)\n",
    "    deletions_match = deletions_pattern.search(commit_details)\n",
    "\n",
    "    # Extract values or default to 0 \n",
    "    files_changed = int(files_changed_match.group(1)) if files_changed_match else 0\n",
    "    insertions = int(insertions_match.group(1)) if insertions_match else 0\n",
    "    deletions = int(deletions_match.group(1)) if deletions_match else 0\n",
    "\n",
    "\n",
    "    commit_info_list.append({\n",
    "        \"commit_hash\": commit_hash,\n",
    "        \"files_changed\": files_changed,\n",
    "        \"insertions\": insertions,\n",
    "        \"deletions\": deletions\n",
    "    })\n",
    "\n",
    "# Most substantial change \n",
    "max_commit = max(commit_info_list, key=lambda x: x['files_changed'])\n",
    "    \n",
    "commit_hash_task3 = max_commit['commit_hash'] \n",
    "\n",
    "# Documentation \n",
    "logging.info(\"Commit with the most substantial change:\")\n",
    "logging.info(f\"Commit Hash: {max_commit['commit_hash']}\")\n",
    "logging.info(f\"Files Changed: {max_commit['files_changed']}\")\n",
    "logging.info(f\"Insertions: {max_commit['insertions']}\")\n",
    "logging.info(f\"Deletions: {max_commit['deletions']}\")\n",
    "\n",
    "# Save the commit information \n",
    "commit_info_path = \"./commit_info.json\"\n",
    "with open(commit_info_path, 'w', encoding='utf-8') as f:\n",
    "    json.dump(max_commit, f, indent=4)\n",
    "\n",
    "if exists(commit_info_path):\n",
    "    logging.info(f\"Commit information saved to '{commit_info_path}'\")\n",
    "else:\n",
    "    logging.error(f\"Failed to save commit information to '{commit_info_path}'\")\n"
   ]
  },
  {
   "cell_type": "markdown",
   "metadata": {},
   "source": [
    "## Dependency changes"
   ]
  },
  {
   "cell_type": "code",
   "execution_count": 36,
   "metadata": {},
   "outputs": [
    {
     "name": "stdout",
     "output_type": "stream",
     "text": [
      "Checked out to commit 8cc6ff24880ac00fdb9d11bce480a0433456e82d successfully.\n"
     ]
    },
    {
     "name": "stderr",
     "output_type": "stream",
     "text": [
      "Note: switching to '8cc6ff24880ac00fdb9d11bce480a0433456e82d'.\n",
      "\n",
      "You are in 'detached HEAD' state. You can look around, make experimental\n",
      "changes and commit them, and you can discard any commits you make in this\n",
      "state without impacting any branches by switching back to a branch.\n",
      "\n",
      "If you want to create a new branch to retain commits you create, you may\n",
      "do so (now or later) by using -c with the switch command. Example:\n",
      "\n",
      "  git switch -c <new-branch-name>\n",
      "\n",
      "Or undo this operation with:\n",
      "\n",
      "  git switch -\n",
      "\n",
      "Turn off this advice by setting config variable advice.detachedHead to false\n",
      "\n",
      "HEAD is now at 8cc6ff2488 fix: use SharedArrayBuffer only when cross-origin isolation is enabled (#20831)\n"
     ]
    }
   ],
   "source": [
    "try:\n",
    "    subprocess.run([\"git\", \"checkout\", commit_hash], check=True, text=True)\n",
    "    print(f\"Checked out to commit {commit_hash} successfully.\")\n",
    "except subprocess.CalledProcessError as e:\n",
    "    print(f\"Error checking out to commit {commit_hash}: {e}\")"
   ]
  },
  {
   "cell_type": "code",
   "execution_count": 40,
   "metadata": {},
   "outputs": [],
   "source": [
    "result_commit = subprocess.run(f\"madge --json ./ > 'dependencies_commit.json'\", shell=True)\n",
    "\n",
    "\n",
    "# Step 3: Load dependencies from dependencies.json\n",
    "with open(\"dependencies_commit.json\", 'r', encoding='utf-8') as f:\n",
    "    try:\n",
    "        dependencies = json.load(f)\n",
    "    except json.JSONDecodeError as e:\n",
    "        print(f\"Error decoding JSON: {e}\")\n",
    "        dependencies = {}"
   ]
  },
  {
   "cell_type": "code",
   "execution_count": null,
   "metadata": {},
   "outputs": [],
   "source": [
    "# Execute Madge command for v17.0.1\n",
    "subprocess.run([\"git\", \"checkout\", \"v17.0.1\"], shell=True)\n",
    "result_v17_0_1 = subprocess.run(f\"madge --json ./ > 'dependencies_v17_0_1.json'\", shell=True)\n",
    "\n",
    "with open(\"dependencies_v17_0_1.json\", 'r', encoding='utf-8') as f:\n",
    "    try:\n",
    "        dependencies = json.load(f)\n",
    "    except json.JSONDecodeError as e:\n",
    "        print(f\"Error decoding JSON: {e}\")\n",
    "        dependencies = {}\n",
    "\n",
    "\n",
    "# Execute Madge command for v17.0.2\n",
    "subprocess.run([\"git\", \"checkout\", \"v17.0.2\"], shell=True)\n",
    "result_v17_0_2 = subprocess.run(f\"madge --json ./ > 'dependencies_v17_0_2.json'\", shell=True)\n",
    "\n",
    "with open(\"dependencies_v17_0_2.json\", 'r', encoding='utf-8') as f:\n",
    "    try:\n",
    "        dependencies = json.load(f)\n",
    "    except json.JSONDecodeError as e:\n",
    "        print(f\"Error decoding JSON: {e}\")\n",
    "        dependencies = {}\n"
   ]
  },
  {
   "cell_type": "code",
   "execution_count": 34,
   "metadata": {},
   "outputs": [
    {
     "name": "stdout",
     "output_type": "stream",
     "text": [
      "No changes in dependencies detected between v17.0.1 and v17.0.2.\n"
     ]
    }
   ],
   "source": [
    "# Compare dependency changes in v17_0_1 and v17_0_2\n",
    "\n",
    "if os.path.exists(\"dependencies_v17_0_1.json\") and os.path.exists(\"dependencies_v17_0_2.json\"):\n",
    "    with open(\"dependencies_v17_0_1.json\", 'r', encoding='utf-8') as f:\n",
    "        try:\n",
    "            dependencies_v17_0_1 = json.load(f)\n",
    "        except json.JSONDecodeError as e:\n",
    "            print(f\"Error decoding JSON for v17.0.1: {e}\")\n",
    "            dependencies_v17_0_1 = {}\n",
    "\n",
    "    with open(\"dependencies_v17_0_2.json\", 'r', encoding='utf-8') as f:\n",
    "        try:\n",
    "            dependencies_v17_0_2 = json.load(f)\n",
    "        except json.JSONDecodeError as e:\n",
    "            print(f\"Error decoding JSON for v17.0.2: {e}\")\n",
    "            dependencies_v17_0_2 = {}\n",
    "else:\n",
    "    dependencies_v17_0_1 = {}\n",
    "    dependencies_v17_0_2 = {}\n",
    "\n",
    "changes = {\n",
    "    \"new_dependencies\": {},\n",
    "    \"removed_dependencies\": {}\n",
    "}\n",
    "\n",
    "# Find new dependencies introduced in v17.0.2\n",
    "for file, deps in dependencies_v17_0_2.items():\n",
    "    if file not in dependencies_v17_0_1:\n",
    "        changes[\"new_dependencies\"][file] = deps\n",
    "    else:\n",
    "        new_deps = set(deps) - set(dependencies_v17_0_1[file])\n",
    "        if new_deps:\n",
    "            changes[\"new_dependencies\"][file] = list(new_deps)\n",
    "\n",
    "# Find dependencies that were removed in v17.0.2\n",
    "for file, deps in dependencies_v17_0_1.items():\n",
    "    if file not in dependencies_v17_0_2:\n",
    "        changes[\"removed_dependencies\"][file] = deps\n",
    "    else:\n",
    "        removed_deps = set(deps) - set(dependencies_v17_0_2[file])\n",
    "        if removed_deps:\n",
    "            changes[\"removed_dependencies\"][file] = list(removed_deps)\n",
    "\n",
    "# Save dependency changes to a new JSON file\n",
    "if changes[\"new_dependencies\"] or changes[\"removed_dependencies\"]:\n",
    "    with open(\"dependency_changes\", 'w', encoding='utf-8') as f:\n",
    "        json.dump(changes, f, indent=4)\n",
    "    print(f\"Dependency changes between v17.0.1 and v17.0.2 have been documented in dependency_changes\")\n",
    "else:\n",
    "    print(\"No changes in dependencies detected between v17.0.1 and v17.0.2.\")"
   ]
  }
 ],
 "metadata": {
  "kernelspec": {
   "display_name": "Python (autoencoder_env)",
   "language": "python",
   "name": "autoencoder_env"
  },
  "language_info": {
   "codemirror_mode": {
    "name": "ipython",
    "version": 3
   },
   "file_extension": ".py",
   "mimetype": "text/x-python",
   "name": "python",
   "nbconvert_exporter": "python",
   "pygments_lexer": "ipython3",
   "version": "3.11.5"
  }
 },
 "nbformat": 4,
 "nbformat_minor": 2
}
